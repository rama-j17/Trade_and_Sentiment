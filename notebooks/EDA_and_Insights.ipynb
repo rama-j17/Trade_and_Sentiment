{
  "nbformat": 4,
  "nbformat_minor": 0,
  "metadata": {
    "colab": {
      "provenance": []
    },
    "kernelspec": {
      "name": "python3",
      "display_name": "Python 3"
    },
    "language_info": {
      "name": "python"
    }
  },
  "cells": [
    {
      "cell_type": "code",
      "execution_count": null,
      "metadata": {
        "id": "-AoGGUd3Y_d-"
      },
      "outputs": [],
      "source": [
        "# notebooks/EDA_and_Insights.ipynb\n",
        "# This is a placeholder. Actual notebook code will be built step by step using Python.\n",
        "\n",
        "# You can open this notebook in Jupyter or Colab to run it interactively.\n",
        "\n",
        "# 1. Load Libraries\n",
        "import pandas as pd\n",
        "import matplotlib.pyplot as plt\n",
        "import seaborn as sns\n",
        "from src.preprocess import load_and_preprocess_data\n",
        "from src.analysis import trader_sentiment_insights\n",
        "from src.viz import plot_pnl_distribution, plot_winrate_by_sentiment\n",
        "\n",
        "# 2. Load Data\n",
        "t_data, s_data = load_and_preprocess_data('data/trader_data.csv', 'data/sentiment_data.csv')\n",
        "\n",
        "# 3. Run Analysis\n",
        "insight_df = trader_sentiment_insights(t_data)\n",
        "\n",
        "# 4. Visualize Insights\n",
        "plot_pnl_distribution(t_data)\n",
        "plot_winrate_by_sentiment(insight_df)\n",
        "\n",
        "# 5. Interpret Results\n",
        "print(\"\\nKey Findings:\\n\")\n",
        "print(insight_df.groupby('sentiment').agg({'win_rate': 'mean', 'avg_pnl': 'mean'}))"
      ]
    }
  ]
}